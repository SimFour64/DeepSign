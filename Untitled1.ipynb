{
 "cells": [
  {
   "cell_type": "code",
   "execution_count": null,
   "id": "3b1f4866",
   "metadata": {},
   "outputs": [],
   "source": [
    "import tensorflow as tf\n",
    "from tensorflow.keras import layers, models\n",
    "from sklearn.model_selection import train_test_split\n",
    "from tensorflow.keras.callbacks import EarlyStopping\n",
    "import numpy as np\n",
    "import os\n",
    "import matplotlib.pyplot as plt\n",
    "from tensorflow.keras.preprocessing import image_dataset_from_directory"
   ]
  },
  {
   "cell_type": "code",
   "execution_count": null,
   "id": "daf19fa3",
   "metadata": {},
   "outputs": [],
   "source": [
    "classes_to_select = ['hello', 'please', '2', 'c', 'NULL']\n",
    "dataset_dir = 'raw_data/sorted_signs'\n",
    "\n",
    "def preprocess_data(dataset_dir, classes_to_select, img_size=(128, 128), batch_size=32):\n",
    "    \"\"\"\n",
    "    Charge et prétraite les images en ne sélectionnant que certaines classes.\n",
    "    \"\"\"\n",
    "    # Charger uniquement les classes sélectionnées\n",
    "    train_dataset = image_dataset_from_directory(\n",
    "        dataset_dir,\n",
    "        image_size=img_size, \n",
    "        batch_size=batch_size,  \n",
    "        label_mode='categorical',  # Classification multi-classes\n",
    "        validation_split=0.2,  \n",
    "        subset=\"training\",  \n",
    "        seed=123,  \n",
    "        class_names=classes_to_select  \n",
    "    )\n",
    "\n",
    "    validation_dataset = image_dataset_from_directory(\n",
    "        dataset_dir,\n",
    "        image_size=img_size, \n",
    "        batch_size=batch_size,  \n",
    "        label_mode='categorical',  \n",
    "        validation_split=0.2,  \n",
    "        subset=\"validation\",  \n",
    "        seed=123,  \n",
    "        class_names=classes_to_select  \n",
    "    )\n",
    "\n",
    "    return train_dataset, validation_dataset"
   ]
  },
  {
   "cell_type": "code",
   "execution_count": null,
   "id": "73c13d94",
   "metadata": {},
   "outputs": [],
   "source": [
    "train_dataset, validation_dataset = preprocess_data(dataset_dir, classes_to_select)"
   ]
  },
  {
   "cell_type": "code",
   "execution_count": null,
   "id": "49950e27",
   "metadata": {},
   "outputs": [],
   "source": [
    "# Initialisation du modèle\n",
    "\n",
    "def initialize_model():\n",
    "\n",
    "    model = models.Sequential([\n",
    "        # Normalisation des images (diviser par 255)\n",
    "        layers.Rescaling(1./255, input_shape=(128, 128, 3)),\n",
    "        \n",
    "        # Première couche convolutionnelle avec max pooling\n",
    "        layers.Conv2D(32, (3, 3), activation='relu'),\n",
    "        #layers.MaxPooling2D(2, 2),\n",
    "        \n",
    "        # Deuxième couche convolutionnelle avec max pooling\n",
    "        layers.Conv2D(64, (3, 3), activation='relu'),\n",
    "        #layers.MaxPooling2D(2, 2),\n",
    "        \n",
    "        # Aplatir la sortie des couches convolutionnelles\n",
    "        layers.Flatten(),\n",
    "        \n",
    "        # Couche dense avec 128 unités\n",
    "        layers.Dense(128, activation='relu'),\n",
    "        \n",
    "        # Couche de sortie avec une unité par classe\n",
    "        layers.Dense(5, activation='softmax')  # 5 classes de sortie\n",
    "    ])\n",
    "    \n",
    "    return model\n",
    "\n",
    "model = initialize_model()"
   ]
  },
  {
   "cell_type": "code",
   "execution_count": null,
   "id": "1617bec8",
   "metadata": {},
   "outputs": [],
   "source": [
    "# Compilation du modèle\n",
    "\n",
    "def compile_model(model):\n",
    "\n",
    "    model.compile(\n",
    "        optimizer='adam',\n",
    "        loss='categorical_crossentropy',\n",
    "        metrics=['accuracy']\n",
    "    )\n",
    "\n",
    "compile_model(model)"
   ]
  },
  {
   "cell_type": "code",
   "execution_count": null,
   "id": "03698731",
   "metadata": {},
   "outputs": [],
   "source": [
    "# Entrainement du modèle\n",
    "\n",
    "def train_model(model, train_dataset, validation_dataset, epochs=10):\n",
    "\n",
    "    es = EarlyStopping(monitor='val_loss', patience=5, restore_best_weights=True, verbose=1)\n",
    "    \n",
    "    history = model.fit(\n",
    "        train_dataset,\n",
    "        epochs=epochs,\n",
    "        validation_data=validation_dataset,\n",
    "        callbacks=[es]\n",
    "    )\n",
    "    return history\n",
    "\n",
    "history = train_model(model, train_dataset, validation_dataset, epochs=10)"
   ]
  },
  {
   "cell_type": "code",
   "execution_count": null,
   "id": "ec0d3334",
   "metadata": {},
   "outputs": [],
   "source": [
    "# Évaluation du modèle\n",
    "\n",
    "def evaluate_model(model, validation_dataset):\n",
    "\n",
    "    loss, accuracy = model.evaluate(validation_dataset)\n",
    "    print(f\"Loss: {loss}, Accuracy: {accuracy}\")\n",
    "    return loss, accuracy\n",
    "\n",
    "evaluate_model(model, validation_dataset)"
   ]
  },
  {
   "cell_type": "code",
   "execution_count": null,
   "id": "4e44201f",
   "metadata": {},
   "outputs": [],
   "source": [
    "# Afficher les courbes de performance (précision et perte)\n",
    "\n",
    "def plot_history(history):\n",
    "    plt.figure(figsize=(12, 6))\n",
    "\n",
    "    # Courbe de précision\n",
    "    plt.subplot(1, 2, 1)\n",
    "    plt.plot(history.history['accuracy'], label='Train Accuracy')\n",
    "    plt.plot(history.history['val_accuracy'], label='Val Accuracy')\n",
    "    plt.title('Model Accuracy')\n",
    "    plt.xlabel('Epoch')\n",
    "    plt.ylabel('Accuracy')\n",
    "    plt.legend()\n",
    "\n",
    "    # Courbe de perte\n",
    "    plt.subplot(1, 2, 2)\n",
    "    plt.plot(history.history['loss'], label='Train Loss')\n",
    "    plt.plot(history.history['val_loss'], label='Val Loss')\n",
    "    plt.title('Model Loss')\n",
    "    plt.xlabel('Epoch')\n",
    "    plt.ylabel('Loss')\n",
    "    plt.legend()\n",
    "\n",
    "    plt.show()\n",
    "\n",
    "plot_history(history)"
   ]
  },
  {
   "cell_type": "code",
   "execution_count": null,
   "id": "e46ed6f4",
   "metadata": {},
   "outputs": [],
   "source": [
    "# Prédiction pour une image\n",
    "\n",
    "def predict_image(model, image):\n",
    "    \n",
    "    predictions = model.predict(image)\n",
    "    predicted_class = np.argmax(predictions, axis=1)\n",
    "    \n",
    "    return predicted_class\n",
    "\n",
    "image_path = \"path_to_image.jpg\"\n",
    "predicted_class = predict_image(model, image_path)\n",
    "print(f\"Predicted class: {train_dataset.class_names[predicted_class[0]]}\")"
   ]
  }
 ],
 "metadata": {
  "kernelspec": {
   "display_name": "Python 3 (ipykernel)",
   "language": "python",
   "name": "python3"
  },
  "language_info": {
   "codemirror_mode": {
    "name": "ipython",
    "version": 3
   },
   "file_extension": ".py",
   "mimetype": "text/x-python",
   "name": "python",
   "nbconvert_exporter": "python",
   "pygments_lexer": "ipython3",
   "version": "3.10.6"
  }
 },
 "nbformat": 4,
 "nbformat_minor": 5
}
