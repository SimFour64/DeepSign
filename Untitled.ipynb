{
 "cells": [
  {
   "cell_type": "code",
   "execution_count": 1,
   "id": "4fec1c4d",
   "metadata": {},
   "outputs": [],
   "source": [
    "import tensorflow as tf\n",
    "from tensorflow.keras import layers, models\n",
    "from sklearn.model_selection import train_test_split\n",
    "from tensorflow.keras.callbacks import EarlyStopping\n",
    "import numpy as np\n",
    "import os\n",
    "import matplotlib.pyplot as plt\n",
    "from tensorflow.keras.preprocessing import image_dataset_from_directory"
   ]
  },
  {
   "cell_type": "code",
   "execution_count": 2,
   "id": "bc3ef5cb",
   "metadata": {},
   "outputs": [],
   "source": [
    "classes_to_select = ['hello', 'please', '2', 'c', 'NULL']\n",
    "dataset_dir = 'raw_data/sorted_signs'\n",
    "\n",
    "def preprocess_data(dataset_dir, classes_to_select, img_size=(128, 128), batch_size=32):\n",
    "    \"\"\"\n",
    "    Charge et prétraite les images en ne sélectionnant que certaines classes.\n",
    "    \"\"\"\n",
    "    # Charger uniquement les classes sélectionnées\n",
    "    train_dataset = image_dataset_from_directory(\n",
    "        dataset_dir,\n",
    "        image_size=img_size, \n",
    "        batch_size=batch_size,  \n",
    "        label_mode='categorical',  # Classification multi-classes\n",
    "        validation_split=0.2,  \n",
    "        subset=\"training\",  \n",
    "        seed=123,  \n",
    "        class_names=classes_to_select  \n",
    "    )\n",
    "\n",
    "    validation_dataset = image_dataset_from_directory(\n",
    "        dataset_dir,\n",
    "        image_size=img_size, \n",
    "        batch_size=batch_size,  \n",
    "        label_mode='categorical',  \n",
    "        validation_split=0.2,  \n",
    "        subset=\"validation\",  \n",
    "        seed=123,  \n",
    "        class_names=classes_to_select  \n",
    "    )\n",
    "\n",
    "    return train_dataset, validation_dataset"
   ]
  },
  {
   "cell_type": "code",
   "execution_count": 3,
   "id": "e37580a6",
   "metadata": {},
   "outputs": [
    {
     "name": "stdout",
     "output_type": "stream",
     "text": [
      "Found 3774 files belonging to 5 classes.\n",
      "Using 3020 files for training.\n",
      "Found 3774 files belonging to 5 classes.\n",
      "Using 754 files for validation.\n"
     ]
    }
   ],
   "source": [
    "train_dataset, validation_dataset = preprocess_data(dataset_dir, classes_to_select)"
   ]
  },
  {
   "cell_type": "code",
   "execution_count": 4,
   "id": "10164028",
   "metadata": {},
   "outputs": [
    {
     "name": "stderr",
     "output_type": "stream",
     "text": [
      "/Users/veronika/.pyenv/versions/3.10.6/envs/DeepSign/lib/python3.10/site-packages/keras/src/layers/preprocessing/tf_data_layer.py:19: UserWarning: Do not pass an `input_shape`/`input_dim` argument to a layer. When using Sequential models, prefer using an `Input(shape)` object as the first layer in the model instead.\n",
      "  super().__init__(**kwargs)\n"
     ]
    }
   ],
   "source": [
    "# Initialisation du modèle\n",
    "\n",
    "def initialize_model():\n",
    "\n",
    "    model = models.Sequential([\n",
    "        # Normalisation des images (diviser par 255)\n",
    "        layers.Rescaling(1./255, input_shape=(128, 128, 3)),\n",
    "        \n",
    "        # Première couche convolutionnelle avec max pooling\n",
    "        layers.Conv2D(32, (3, 3), activation='relu'),\n",
    "        #layers.MaxPooling2D(2, 2),\n",
    "        \n",
    "        # Deuxième couche convolutionnelle avec max pooling\n",
    "        layers.Conv2D(64, (3, 3), activation='relu'),\n",
    "        #layers.MaxPooling2D(2, 2),\n",
    "        \n",
    "        # Aplatir la sortie des couches convolutionnelles\n",
    "        layers.Flatten(),\n",
    "        \n",
    "        # Couche dense avec 128 unités\n",
    "        layers.Dense(128, activation='relu'),\n",
    "        \n",
    "        # Couche de sortie avec une unité par classe\n",
    "        layers.Dense(5, activation='softmax')  # 5 classes de sortie\n",
    "    ])\n",
    "    \n",
    "    return model\n",
    "\n",
    "model = initialize_model()"
   ]
  },
  {
   "cell_type": "code",
   "execution_count": 5,
   "id": "12300bc2",
   "metadata": {},
   "outputs": [],
   "source": [
    "# Compilation du modèle\n",
    "\n",
    "def compile_model(model):\n",
    "\n",
    "    model.compile(\n",
    "        optimizer='adam',\n",
    "        loss='categorical_crossentropy',\n",
    "        metrics=['accuracy']\n",
    "    )\n",
    "\n",
    "compile_model(model)"
   ]
  },
  {
   "cell_type": "code",
   "execution_count": null,
   "id": "f51e9183",
   "metadata": {},
   "outputs": [
    {
     "name": "stdout",
     "output_type": "stream",
     "text": [
      "Epoch 1/10\n",
      "\u001b[1m95/95\u001b[0m \u001b[32m━━━━━━━━━━━━━━━━━━━━\u001b[0m\u001b[37m\u001b[0m \u001b[1m160s\u001b[0m 2s/step - accuracy: 0.3885 - loss: 15.6651 - val_accuracy: 0.7851 - val_loss: 0.6336\n",
      "Epoch 2/10\n",
      "\u001b[1m63/95\u001b[0m \u001b[32m━━━━━━━━━━━━━\u001b[0m\u001b[37m━━━━━━━\u001b[0m \u001b[1m46s\u001b[0m 1s/step - accuracy: 0.8586 - loss: 0.4225"
     ]
    }
   ],
   "source": [
    "# Entrainement du modèle\n",
    "\n",
    "def train_model(model, train_dataset, validation_dataset, epochs=10):\n",
    "\n",
    "    es = EarlyStopping(monitor='val_loss', patience=5, restore_best_weights=True, verbose=1)\n",
    "    \n",
    "    history = model.fit(\n",
    "        train_dataset,\n",
    "        epochs=epochs,\n",
    "        validation_data=validation_dataset,\n",
    "        callbacks=[es]\n",
    "    )\n",
    "    return history\n",
    "\n",
    "history = train_model(model, train_dataset, validation_dataset, epochs=10)"
   ]
  },
  {
   "cell_type": "code",
   "execution_count": null,
   "id": "753eaa89",
   "metadata": {},
   "outputs": [],
   "source": []
  }
 ],
 "metadata": {
  "kernelspec": {
   "display_name": "Python 3 (ipykernel)",
   "language": "python",
   "name": "python3"
  },
  "language_info": {
   "codemirror_mode": {
    "name": "ipython",
    "version": 3
   },
   "file_extension": ".py",
   "mimetype": "text/x-python",
   "name": "python",
   "nbconvert_exporter": "python",
   "pygments_lexer": "ipython3",
   "version": "3.10.6"
  }
 },
 "nbformat": 4,
 "nbformat_minor": 5
}
